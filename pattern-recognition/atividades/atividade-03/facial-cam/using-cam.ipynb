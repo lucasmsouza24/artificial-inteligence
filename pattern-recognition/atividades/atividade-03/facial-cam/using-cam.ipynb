{
 "cells": [
  {
   "cell_type": "code",
   "execution_count": 4,
   "metadata": {},
   "outputs": [],
   "source": [
    "import cv2\n",
    "import mediapipe as mp"
   ]
  },
  {
   "cell_type": "code",
   "execution_count": 5,
   "metadata": {},
   "outputs": [],
   "source": [
    "cam = cv2.VideoCapture(0)\n",
    "reconhecimento_facial = mp.solutions.face_detection\n",
    "reconhecedor = reconhecimento_facial.FaceDetection()\n",
    "draw = mp.solutions.drawing_utils"
   ]
  },
  {
   "cell_type": "code",
   "execution_count": 6,
   "metadata": {},
   "outputs": [],
   "source": [
    "while True:\n",
    "    status, image = cam.read()\n",
    "    if not status: \n",
    "        break\n",
    "\n",
    "    faces = reconhecedor.process(image)\n",
    "\n",
    "    if faces.detections:\n",
    "        for rosto in faces.detections:\n",
    "            draw.draw_detection(image, rosto)\n",
    "    \n",
    "    cv2.imshow('Faces no webcam', image)\n",
    "\n",
    "    if cv2.waitKey(5) == 27:\n",
    "        break"
   ]
  },
  {
   "cell_type": "code",
   "execution_count": null,
   "metadata": {},
   "outputs": [],
   "source": [
    "cam.release()\n",
    "cv2.destroyAllWindows()"
   ]
  }
 ],
 "metadata": {
  "kernelspec": {
   "display_name": "Python 3",
   "language": "python",
   "name": "python3"
  },
  "language_info": {
   "codemirror_mode": {
    "name": "ipython",
    "version": 3
   },
   "file_extension": ".py",
   "mimetype": "text/x-python",
   "name": "python",
   "nbconvert_exporter": "python",
   "pygments_lexer": "ipython3",
   "version": "3.11.1"
  }
 },
 "nbformat": 4,
 "nbformat_minor": 2
}
