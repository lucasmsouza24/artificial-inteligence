{
 "cells": [
  {
   "cell_type": "code",
   "execution_count": 135,
   "metadata": {},
   "outputs": [],
   "source": [
    "from sklearn.linear_model import Perceptron\n",
    "from sklearn.metrics import accuracy_score"
   ]
  },
  {
   "cell_type": "markdown",
   "metadata": {},
   "source": [
    "# A AND B"
   ]
  },
  {
   "cell_type": "code",
   "execution_count": 136,
   "metadata": {},
   "outputs": [],
   "source": [
    "# A AND B\n",
    "and_x_train = [[0, 0], [0, 1], [1, 0], [1, 1]]\n",
    "and_y_train = [0, 0, 0, 1]\n",
    "and_x_test = [[0, 0], [0, 1], [1, 0], [1, 1]]"
   ]
  },
  {
   "cell_type": "code",
   "execution_count": 137,
   "metadata": {},
   "outputs": [],
   "source": [
    "not_perceptron = Perceptron()\n",
    "not_perceptron.fit(and_x_train, and_y_train)\n",
    "and_y_pred = not_perceptron.predict(and_x_test)"
   ]
  },
  {
   "cell_type": "code",
   "execution_count": 138,
   "metadata": {},
   "outputs": [],
   "source": [
    "not_acc = accuracy_score(and_y_train, and_y_pred)"
   ]
  },
  {
   "cell_type": "code",
   "execution_count": 139,
   "metadata": {},
   "outputs": [
    {
     "name": "stdout",
     "output_type": "stream",
     "text": [
      "[0 0 0 1]\n",
      "Acurácia: 1.0\n"
     ]
    }
   ],
   "source": [
    "print(and_y_pred)\n",
    "print(f\"Acurácia: {not_acc}\")"
   ]
  },
  {
   "cell_type": "markdown",
   "metadata": {},
   "source": [
    "# A AND !B"
   ]
  },
  {
   "cell_type": "code",
   "execution_count": 140,
   "metadata": {},
   "outputs": [],
   "source": [
    "# A AND\n",
    "and_not_x_train = [[0, 0], [0, 1], [1, 0], [1, 1]]\n",
    "and_not_y_train = [0, 0, 1, 0]\n",
    "and_not_x_test = [[0, 0], [0, 1], [1, 0], [1, 1]]"
   ]
  },
  {
   "cell_type": "code",
   "execution_count": 141,
   "metadata": {},
   "outputs": [],
   "source": [
    "and_not_perceptron = Perceptron()\n",
    "and_not_perceptron.fit(and_not_x_train, and_not_y_train)\n",
    "and_not_y_pred = and_not_perceptron.predict(and_not_x_test)"
   ]
  },
  {
   "cell_type": "code",
   "execution_count": 142,
   "metadata": {},
   "outputs": [],
   "source": [
    "and_not_acc = accuracy_score(and_not_y_train, and_not_y_pred)"
   ]
  },
  {
   "cell_type": "code",
   "execution_count": 143,
   "metadata": {},
   "outputs": [
    {
     "name": "stdout",
     "output_type": "stream",
     "text": [
      "[0 0 1 0]\n",
      "Acurácia: 1.0\n"
     ]
    }
   ],
   "source": [
    "print(and_not_y_pred)\n",
    "print(f\"Acurácia: {and_not_acc}\")"
   ]
  },
  {
   "cell_type": "markdown",
   "metadata": {},
   "source": [
    "# A OR B"
   ]
  },
  {
   "cell_type": "code",
   "execution_count": 144,
   "metadata": {},
   "outputs": [],
   "source": [
    "# A OR B\n",
    "or_x_train = [[0, 0], [0, 1], [1, 0], [1, 1]]\n",
    "or_y_train = [0, 1, 1, 1]\n",
    "or_x_test = [[0, 0], [0, 1], [1, 0], [1, 1]]"
   ]
  },
  {
   "cell_type": "code",
   "execution_count": 145,
   "metadata": {},
   "outputs": [],
   "source": [
    "or_perceptron = Perceptron()\n",
    "or_perceptron.fit(or_x_train, or_y_train)\n",
    "or_y_pred = or_perceptron.predict(or_x_test)"
   ]
  },
  {
   "cell_type": "code",
   "execution_count": 146,
   "metadata": {},
   "outputs": [],
   "source": [
    "or_acc = accuracy_score(or_y_train, or_y_pred)"
   ]
  },
  {
   "cell_type": "code",
   "execution_count": 147,
   "metadata": {},
   "outputs": [
    {
     "name": "stdout",
     "output_type": "stream",
     "text": [
      "[0 1 1 1]\n",
      "Acurácia: 1.0\n"
     ]
    }
   ],
   "source": [
    "print(or_y_pred)\n",
    "print(f\"Acurácia: {or_acc}\")"
   ]
  },
  {
   "cell_type": "markdown",
   "metadata": {},
   "source": [
    "# A XOR B"
   ]
  },
  {
   "cell_type": "code",
   "execution_count": 148,
   "metadata": {},
   "outputs": [],
   "source": [
    "# A XOR B\n",
    "xor_x_train = [[0, 0], [0, 1], [1, 0], [1, 1]]\n",
    "xor_y_train = [0, 1, 1, 0]\n",
    "xor_x_test = [[0, 0], [0, 1], [1, 0], [1, 1]]"
   ]
  },
  {
   "cell_type": "code",
   "execution_count": 149,
   "metadata": {},
   "outputs": [],
   "source": [
    "xor_perceptron = Perceptron()\n",
    "xor_perceptron.fit(xor_x_train, xor_y_train)\n",
    "xor_y_pred = xor_perceptron.predict(xor_x_test)"
   ]
  },
  {
   "cell_type": "code",
   "execution_count": 150,
   "metadata": {},
   "outputs": [],
   "source": [
    "xor_acc = accuracy_score(xor_y_train, xor_y_pred)"
   ]
  },
  {
   "cell_type": "code",
   "execution_count": 151,
   "metadata": {},
   "outputs": [
    {
     "name": "stdout",
     "output_type": "stream",
     "text": [
      "[0 0 0 0]\n",
      "Acurácia: 0.5\n"
     ]
    }
   ],
   "source": [
    "print(xor_y_pred)\n",
    "print(f\"Acurácia: {xor_acc}\")"
   ]
  }
 ],
 "metadata": {
  "kernelspec": {
   "display_name": "Python 3",
   "language": "python",
   "name": "python3"
  },
  "language_info": {
   "codemirror_mode": {
    "name": "ipython",
    "version": 3
   },
   "file_extension": ".py",
   "mimetype": "text/x-python",
   "name": "python",
   "nbconvert_exporter": "python",
   "pygments_lexer": "ipython3",
   "version": "3.11.1"
  }
 },
 "nbformat": 4,
 "nbformat_minor": 2
}
